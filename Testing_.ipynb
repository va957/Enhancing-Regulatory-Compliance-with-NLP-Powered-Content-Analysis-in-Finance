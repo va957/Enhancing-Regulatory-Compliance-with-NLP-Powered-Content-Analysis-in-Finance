{
  "cells": [
    {
      "cell_type": "code",
      "execution_count": null,
      "metadata": {
        "id": "Z1hBcihhY1Di"
      },
      "outputs": [],
      "source": [
        "import pandas as pd\n",
        "import nltk\n",
        "import re\n",
        "from nltk.tokenize import word_tokenize\n",
        "from nltk.corpus import stopwords\n",
        "from nltk.stem import WordNetLemmatizer\n",
        "from nltk import pos_tag"
      ]
    },
    {
      "cell_type": "code",
      "execution_count": null,
      "metadata": {
        "id": "38T5nmpNAV7S"
      },
      "outputs": [],
      "source": [
        "nltk.download('stopwords')\n",
        "nltk.download('punkt')\n",
        "nltk.download('averaged_perceptron_tagger')\n",
        "nltk.download('wordnet')\n",
        "nltk.download('omw-1.4')"
      ]
    },
    {
      "cell_type": "code",
      "source": [
        "import pickle \n",
        "with open(\"model.pkl\", 'rb') as file: #Put the pickle file in folder\n",
        "      clf =  pickle.load(file)\n"
      ],
      "metadata": {
        "id": "2va-RjQs0XJg"
      },
      "execution_count": null,
      "outputs": []
    },
    {
      "cell_type": "code",
      "source": [
        "from joblib import dump, load\n",
        "vectorizer = load('vectorizer.pkl')  #put the pickle file in folder"
      ],
      "metadata": {
        "id": "9VWlEhI_0YNn"
      },
      "execution_count": null,
      "outputs": []
    },
    {
      "cell_type": "code",
      "source": [
        "l1 = ['Corporate Communications', 'Securities Settlement',\n",
        "       'Antitrust', 'Financial Crime', 'Commodities Trading', 'Examinations',\n",
        "       'Insurance', 'Required Disclosures', 'Consumer protection',\n",
        "       'Market Risk', 'Natural Disasters', 'Securities Management',\n",
        "       'Information Filing', 'Quotation', 'Financial Accounting',\n",
        "       'Securities Clearing', 'Listing', 'Records Maintenance', 'Delivery',\n",
        "       'Monetary and Economic Policy', 'Banking', 'Regulatory Actions',\n",
        "       'Securities Sales', 'Compliance Management', 'Fees and Charges',\n",
        "       'Licensing', 'Legal Proceedings', 'Corporate Governance', 'Exemptions',\n",
        "       'Legal', 'Contract Provisions', 'Payments and Settlements', 'IT Risk',\n",
        "       'Trade Pricing', 'Licensure and certification', 'Trade Settlement',\n",
        "       'Market Abuse', 'Regulatory Reporting', 'Powers and Duties',\n",
        "       'Money-Laundering and Terrorist Financing', 'Accounting and Finance',\n",
        "       'Fraud', 'Broker Dealer', 'Securities Issuing', 'Risk Management',\n",
        "       'Forms', 'Definitions', 'Liquidity Risk', 'Money Services','Research']"
      ],
      "metadata": {
        "id": "IFexVAv3mpyw"
      },
      "execution_count": null,
      "outputs": []
    },
    {
      "cell_type": "code",
      "source": [
        "def cleanResume(resumeText):\n",
        "    stop_words = set(stopwords.words('english')) #creating a set of stop words\n",
        "    resumeText=resumeText.lower()\n",
        "    # resumeText = re.sub('http\\S+\\s*', ' ', resumeText)  # remove URLs\n",
        "    # resumeText = re.sub('#\\S+', '', resumeText)  # remove hashtags\n",
        "    resumeText = re.sub('[%s]' % re.escape(\"\"\"!\"#$%&'()*+,-./:;<=>?@[\\]^_`{|}~\"\"\"), ' ', resumeText)  # remove punctuations\n",
        "    resumeText = re.sub(r'\\d*',r'', resumeText)  \n",
        "    resumeText = re.sub('\\s+', ' ', resumeText)\n",
        "    word_tokens = word_tokenize(resumeText)\n",
        "    filtered_sentence = [w for w in word_tokens if not w in stop_words] #Contains words other than stop words\n",
        "    # tagged_corpus=pos_tag(filtered_sentence)\n",
        "    # tagged_corpus_list=[prat_lemmatize(token, tag) for token, tag in tagged_corpus]\n",
        "    resumeText=' '.join(filtered_sentence)\n",
        "    return resumeText"
      ],
      "metadata": {
        "id": "5PT5kfznzDdl"
      },
      "execution_count": null,
      "outputs": []
    },
    {
      "cell_type": "code",
      "execution_count": null,
      "metadata": {
        "id": "bfMlsF-KWeSf"
      },
      "outputs": [],
      "source": [
        "import pickle\n",
        "\n",
        "def predFunc(name, text):\n",
        " \n",
        "  concat=name+text\n",
        "  cleaned=cleanResume(concat)\n",
        "  transformed=vectorizer.transform([cleaned])\n",
        "  pred=clf.predict(transformed)\n",
        "  ans = pd.DataFrame(pred, columns = l1)\n",
        "  \n",
        "  l=ans.columns\n",
        "  empty_list=[]\n",
        "  for i, rows in ans.iterrows():\n",
        "    for j in l:\n",
        "      if rows[j]==1:\n",
        "        empty_list.append(j)\n",
        "\n",
        "  \n",
        "  return (empty_list)"
      ]
    },
    {
      "cell_type": "code",
      "execution_count": null,
      "metadata": {
        "colab": {
          "base_uri": "https://localhost:8080/"
        },
        "id": "6mLVH9nRWeQd",
        "outputId": "4d0b9216-e1f2-4a5c-d940-4836c5b76f6f"
      },
      "outputs": [
        {
          "output_type": "stream",
          "name": "stdout",
          "text": [
            "['Securities Settlement', 'Securities Clearing', 'Payments and Settlements', 'Trade Settlement']\n"
          ]
        }
      ],
      "source": [
        "name=\"Renminbi RMB Haircut - February 4, 2020\"\n",
        "text=\"Pursuant to Section 2.6.2 of the Clearing House Procedures of HKFE Clearing Corporation Limited (HKCC) and Section 10.4.3.1 of the Operational Clearing Procedures of The SEHK Options Clearing House Limited (SEOCH), the Clearing Houses have determined to adjust the haircut on RMB deposited as margin collateral from 3.1% to 3.5% after the close of business on 7 February 2020. The haircut shall be applied on a daily basis to determine the value of any RMB allowed to be used as a cover for the margin requirements of HKCC and/or SEOCH participants for contracts with settlement currency prescribed in HKD or USD. Participants should make necessary funding arrangements to cover any shortfall to their margin requirements resulting from the adjustment of the RMB haircut.\"\n",
        "print(predFunc(name,text))"
      ]
    },
    {
      "cell_type": "code",
      "source": [
        "!pip install gradio"
      ],
      "metadata": {
        "id": "hRG1Rtzr0gN5"
      },
      "execution_count": null,
      "outputs": []
    },
    {
      "cell_type": "code",
      "source": [
        "import gradio as gr\n",
        "demo = gr.Interface(predFunc,['text','text'],['text'])\n",
        "demo.launch()"
      ],
      "metadata": {
        "colab": {
          "base_uri": "https://localhost:8080/",
          "height": 616
        },
        "id": "9kSIM0Bds8sQ",
        "outputId": "45206951-8a88-451f-8d4b-59ddabb4dcf3"
      },
      "execution_count": null,
      "outputs": [
        {
          "output_type": "stream",
          "name": "stdout",
          "text": [
            "Colab notebook detected. To show errors in colab notebook, set debug=True in launch()\n",
            "Note: opening Chrome Inspector may crash demo inside Colab notebooks.\n",
            "\n",
            "To create a public link, set `share=True` in `launch()`.\n"
          ]
        },
        {
          "output_type": "display_data",
          "data": {
            "text/plain": [
              "<IPython.core.display.Javascript object>"
            ],
            "application/javascript": [
              "(async (port, path, width, height, cache, element) => {\n",
              "                        if (!google.colab.kernel.accessAllowed && !cache) {\n",
              "                            return;\n",
              "                        }\n",
              "                        element.appendChild(document.createTextNode(''));\n",
              "                        const url = await google.colab.kernel.proxyPort(port, {cache});\n",
              "\n",
              "                        const external_link = document.createElement('div');\n",
              "                        external_link.innerHTML = `\n",
              "                            <div style=\"font-family: monospace; margin-bottom: 0.5rem\">\n",
              "                                Running on <a href=${new URL(path, url).toString()} target=\"_blank\">\n",
              "                                    https://localhost:${port}${path}\n",
              "                                </a>\n",
              "                            </div>\n",
              "                        `;\n",
              "                        element.appendChild(external_link);\n",
              "\n",
              "                        const iframe = document.createElement('iframe');\n",
              "                        iframe.src = new URL(path, url).toString();\n",
              "                        iframe.height = height;\n",
              "                        iframe.allow = \"autoplay; camera; microphone; clipboard-read; clipboard-write;\"\n",
              "                        iframe.width = width;\n",
              "                        iframe.style.border = 0;\n",
              "                        element.appendChild(iframe);\n",
              "                    })(7861, \"/\", \"100%\", 500, false, window.element)"
            ]
          },
          "metadata": {}
        },
        {
          "output_type": "execute_result",
          "data": {
            "text/plain": []
          },
          "metadata": {},
          "execution_count": 41
        }
      ]
    }
  ],
  "metadata": {
    "colab": {
      "provenance": []
    },
    "kernelspec": {
      "display_name": "Python 3",
      "name": "python3"
    },
    "language_info": {
      "name": "python"
    }
  },
  "nbformat": 4,
  "nbformat_minor": 0
}